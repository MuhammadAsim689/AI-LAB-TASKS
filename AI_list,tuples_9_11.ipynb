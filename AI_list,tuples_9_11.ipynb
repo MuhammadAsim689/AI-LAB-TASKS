{
  "nbformat": 4,
  "nbformat_minor": 0,
  "metadata": {
    "colab": {
      "provenance": [],
      "runtime_attributes": {
        "runtime_version": "2025.07"
      }
    },
    "kernelspec": {
      "name": "python3",
      "display_name": "Python 3"
    },
    "language_info": {
      "name": "python"
    }
  },
  "cells": [
    {
      "cell_type": "code",
      "execution_count": null,
      "metadata": {
        "id": "v7sExWkpDU3N"
      },
      "outputs": [],
      "source": []
    },
    {
      "cell_type": "markdown",
      "source": [
        "**MatplotLib:**\n",
        "\n",
        "Matplotlib is a Python library used to create static, interactive, and animated visualizations like graphs and charts. It helps you plot data easily and clearly."
      ],
      "metadata": {
        "id": "nUXlVUngDVfb"
      }
    },
    {
      "cell_type": "markdown",
      "source": [
        "**Numpy:**\n",
        "\n",
        "NumPy is a Python library that helps you work with large collections of numbers and perform math operations on them quickly and easily. It provides powerful tools for handling arrays and matrices, which are like lists but more efficient for calculations.\n",
        "*NumPy* makes math with big sets of numbers faster and simpler."
      ],
      "metadata": {
        "id": "7dPqjSb0DgDG"
      }
    },
    {
      "cell_type": "markdown",
      "source": [
        "**List:**\n",
        "\n",
        "A List is an ordered collection of items where you can store multiple values in a single variable. You can add, remove, or access items by their position (called an index). Lists can hold different types of data, like numbers, text, or even other lists."
      ],
      "metadata": {
        "id": "SZfvCAtCDl5s"
      }
    },
    {
      "cell_type": "code",
      "source": [
        "my_list=[1,2,3,4,5,6,7,8,9,10]\n",
        "print(my_list)\n",
        "print('Sum: ',sum(my_list))\n",
        "print('Max: ',max(my_list))\n",
        "print('Min: ',min(my_list))\n",
        "\n",
        "my_list.append(11)\n",
        "my_list.remove(4)\n",
        "print('Updated List ' ,my_list)\n",
        "\n",
        "\n",
        "print('Sorted List: ',sorted(my_list))\n",
        "print('Reversed List: ',my_list[::-1])"
      ],
      "metadata": {
        "colab": {
          "base_uri": "https://localhost:8080/"
        },
        "id": "Opg-T4K-Jvj9",
        "outputId": "833b6fcc-30d0-4656-875c-cc4400249451"
      },
      "execution_count": null,
      "outputs": [
        {
          "output_type": "stream",
          "name": "stdout",
          "text": [
            "[1, 2, 3, 4, 5, 6, 7, 8, 9, 10]\n",
            "Sum:  55\n",
            "Max:  10\n",
            "Min:  1\n",
            "Updated List  [1, 2, 3, 5, 6, 7, 8, 9, 10, 11]\n",
            "Sorted List:  [1, 2, 3, 5, 6, 7, 8, 9, 10, 11]\n",
            "Reversed List:  [11, 10, 9, 8, 7, 6, 5, 3, 2, 1]\n"
          ]
        }
      ]
    },
    {
      "cell_type": "markdown",
      "source": [
        "**Tuple:**\n",
        "\n",
        "A Tuple is an ordered collection of items, similar to a list, but it cannot be changed after it’s created (it’s immutable). You can store multiple values in a tuple, and access them by their position (index), but you can’t add, remove, or modify the items later.\n",
        "\n",
        "In short, a tuple is like a fixed list."
      ],
      "metadata": {
        "id": "I5BEK2x5DpQs"
      }
    },
    {
      "cell_type": "code",
      "source": [
        "fruits = (\"Apple\", \"Mango\", \"Orange\", \"Grapes\")\n",
        "print('First Fruit: ', fruits[0])\n",
        "print(fruits)\n",
        "\n",
        "print('Updated Fruits:')\n",
        "fruit_list =list(fruits)\n",
        "fruit_list[1] = 'Banana'\n",
        "print(fruit_list)"
      ],
      "metadata": {
        "colab": {
          "base_uri": "https://localhost:8080/"
        },
        "id": "UONyTuILMzNV",
        "outputId": "0b84360a-81cb-4e1f-c829-4fa971e435bc"
      },
      "execution_count": null,
      "outputs": [
        {
          "output_type": "stream",
          "name": "stdout",
          "text": [
            "First Fruit:  Apple\n",
            "('Apple', 'Mango', 'Orange', 'Grapes')\n",
            "Updated Fruits:\n",
            "['Apple', 'Banana', 'Orange', 'Grapes']\n"
          ]
        }
      ]
    },
    {
      "cell_type": "markdown",
      "source": [
        "**Set:**\n",
        "\n",
        "A Set is an unordered collection of unique items. Unlike lists or tuples, sets don’t keep items in any particular order, and they automatically remove duplicates. You can use sets to do things like check if something is in the collection, or find common items between groups.\n",
        "\n",
        "In short, a set is like a bag of unique stuff with no order."
      ],
      "metadata": {
        "id": "V5j7ijBMDxrV"
      }
    },
    {
      "cell_type": "code",
      "source": [
        "set_1 = {1,2,3,4,5,6,7,8,9,10,11,12,13,14,15,16,17,18,19,20}\n",
        "set_2 = {2,4,6,8,10,12,14,16,18,20}\n",
        "\n",
        "print('Set 1:')\n",
        "print(set_1)\n",
        "print('')\n",
        "\n",
        "print('Set 2:')\n",
        "print(set_2)\n",
        "print('')\n",
        "\n",
        "print('Union:')\n",
        "print(set_1.union(set_2))\n",
        "print('')\n",
        "\n",
        "print('Intersection:')\n",
        "print(set_1.intersection(set_2))\n",
        "print('')\n",
        "\n",
        "print('Difference:')\n",
        "print(set_1.difference(set_2))\n",
        "\n",
        "\n",
        "set_1.add(22)\n",
        "print('')\n",
        "print('Updated Set 1:')\n",
        "print(set_1)\n",
        "\n",
        "set_2.add(12)\n",
        "print('')\n",
        "print('Updated Set 2:')\n",
        "print(set_2)\n"
      ],
      "metadata": {
        "colab": {
          "base_uri": "https://localhost:8080/"
        },
        "id": "SpszkcudUFUe",
        "outputId": "6c4cd256-dffc-4c28-eed8-49494a1e86fe"
      },
      "execution_count": null,
      "outputs": [
        {
          "output_type": "stream",
          "name": "stdout",
          "text": [
            "Set 1:\n",
            "{1, 2, 3, 4, 5, 6, 7, 8, 9, 10, 11, 12, 13, 14, 15, 16, 17, 18, 19, 20}\n",
            "\n",
            "Set 2:\n",
            "{2, 4, 6, 8, 10, 12, 14, 16, 18, 20}\n",
            "\n",
            "Union:\n",
            "{1, 2, 3, 4, 5, 6, 7, 8, 9, 10, 11, 12, 13, 14, 15, 16, 17, 18, 19, 20}\n",
            "\n",
            "Intersection:\n",
            "{2, 4, 6, 8, 10, 12, 14, 16, 18, 20}\n",
            "\n",
            "Difference:\n",
            "{1, 3, 5, 7, 9, 11, 13, 15, 17, 19}\n",
            "\n",
            "Updated Set 1:\n",
            "{1, 2, 3, 4, 5, 6, 7, 8, 9, 10, 11, 12, 13, 14, 15, 16, 17, 18, 19, 20, 22}\n",
            "\n",
            "Updated Set 2:\n",
            "{2, 4, 6, 8, 10, 12, 14, 16, 18, 20}\n"
          ]
        }
      ]
    },
    {
      "cell_type": "markdown",
      "source": [
        "**Dictionary:**"
      ],
      "metadata": {
        "id": "8Cz0E3D6D1At"
      }
    },
    {
      "cell_type": "code",
      "source": [
        "student ={'Asim':85, 'Ali':11, 'Ahmed': 22}\n",
        "print(student)\n",
        "\n",
        "student2 ={'Asim':85, 'Asim':11, 'Asim': 22}\n",
        "\n",
        "print(student2)"
      ],
      "metadata": {
        "colab": {
          "base_uri": "https://localhost:8080/"
        },
        "id": "qgDUiOSUXG-F",
        "outputId": "439d46bf-562c-488f-ba30-8fc2817fda32"
      },
      "execution_count": 8,
      "outputs": [
        {
          "output_type": "stream",
          "name": "stdout",
          "text": [
            "{'Asim': 85, 'Ali': 11, 'Ahmed': 22}\n",
            "{'Asim': 22}\n"
          ]
        }
      ]
    }
  ]
}