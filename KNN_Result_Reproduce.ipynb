{
  "nbformat": 4,
  "nbformat_minor": 0,
  "metadata": {
    "colab": {
      "provenance": []
    },
    "kernelspec": {
      "name": "python3",
      "display_name": "Python 3"
    },
    "language_info": {
      "name": "python"
    }
  },
  "cells": [
    {
      "cell_type": "code",
      "execution_count": 10,
      "metadata": {
        "colab": {
          "base_uri": "https://localhost:8080/"
        },
        "id": "Juyzk-gfnF30",
        "outputId": "8b1d9d19-7617-4089-a348-a5e46c081ec7"
      },
      "outputs": [
        {
          "output_type": "stream",
          "name": "stdout",
          "text": [
            "Training Accuracy: 0.9833333333333333\n",
            "Testing Accuracy: 0.9333333333333333\n"
          ]
        }
      ],
      "source": [
        "# Import libraries\n",
        "from sklearn.datasets import load_iris\n",
        "from sklearn.model_selection import train_test_split\n",
        "from sklearn.neighbors import KNeighborsClassifier\n",
        "from sklearn.metrics import accuracy_score\n",
        "\n",
        "# Step 1: Load dataset\n",
        "data = load_iris()               # Load the Iris dataset\n",
        "X = data.data                    # Features (inputs)\n",
        "y = data.target                  # Labels (outputs)\n",
        "\n",
        "# Step 2: Split data into training and testing sets (80% train, 20% test)\n",
        "X_train, X_test, y_train, y_test = train_test_split(\n",
        "    X, y, test_size=0.2 ,random_state=25\n",
        ")\n",
        "\n",
        "# Step 3: Create KNN model with k=3\n",
        "model = KNeighborsClassifier(n_neighbors=5)\n",
        "\n",
        "# Step 4: Train the model\n",
        "model.fit(X_train, y_train)\n",
        "\n",
        "# Step 5: Predict on both training and test data\n",
        "y_train_pred = model.predict(X_train)   # Predictions for training data\n",
        "y_test_pred = model.predict(X_test)     # Predictions for test data\n",
        "\n",
        "# Step 6: Evaluate accuracy for both\n",
        "train_accuracy = accuracy_score(y_train, y_train_pred)\n",
        "test_accuracy = accuracy_score(y_test, y_test_pred)\n",
        "\n",
        "# Step 7: Print the results\n",
        "print(\"Training Accuracy:\", train_accuracy)\n",
        "print(\"Testing Accuracy:\", test_accuracy)"
      ]
    }
  ]
}