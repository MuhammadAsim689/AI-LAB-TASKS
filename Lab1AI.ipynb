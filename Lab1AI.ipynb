{
  "nbformat": 4,
  "nbformat_minor": 0,
  "metadata": {
    "colab": {
      "provenance": [],
      "gpuType": "T4"
    },
    "kernelspec": {
      "name": "python3",
      "display_name": "Python 3"
    },
    "language_info": {
      "name": "python"
    },
    "accelerator": "GPU"
  },
  "cells": [
    {
      "cell_type": "markdown",
      "source": [
        "**Python Basics:**"
      ],
      "metadata": {
        "id": "_cLi2AfLKQNR"
      }
    },
    {
      "cell_type": "code",
      "execution_count": 1,
      "metadata": {
        "colab": {
          "base_uri": "https://localhost:8080/"
        },
        "id": "lg0mRLNTS96T",
        "outputId": "df85c7df-4900-4f1d-c556-f2b065b00236"
      },
      "outputs": [
        {
          "output_type": "stream",
          "name": "stdout",
          "text": [
            "Asim\n",
            "I'm an AI Student\n"
          ]
        }
      ],
      "source": [
        "print(\"Asim\")\n",
        "print (\"I'm an AI Student\")\n",
        "\n"
      ]
    },
    {
      "cell_type": "markdown",
      "source": [
        "**Comments:**"
      ],
      "metadata": {
        "id": "C2Vu-IgCKkF-"
      }
    },
    {
      "cell_type": "code",
      "source": [
        "#This is for practice\n",
        "print(\"You can Comment in Python\")"
      ],
      "metadata": {
        "colab": {
          "base_uri": "https://localhost:8080/"
        },
        "id": "OkD4YcU8VDxs",
        "outputId": "eca0a2b2-4c2d-40e0-a8e8-4258ae0d025a"
      },
      "execution_count": 2,
      "outputs": [
        {
          "output_type": "stream",
          "name": "stdout",
          "text": [
            "You can Comment in Python\n"
          ]
        }
      ]
    },
    {
      "cell_type": "markdown",
      "source": [
        "**Variables:**"
      ],
      "metadata": {
        "id": "AYJg3kFeKyOZ"
      }
    },
    {
      "cell_type": "code",
      "source": [
        "fname =\"Asim \"\n",
        "lstname= \"Saleem\"\n",
        "fullname= fname+ lstname\n",
        "print(fname)\n",
        "print(lstname)\n",
        "print(fullname)"
      ],
      "metadata": {
        "colab": {
          "base_uri": "https://localhost:8080/"
        },
        "id": "pHARBH2QVYD2",
        "outputId": "acfa3a0e-150b-4bdb-c838-06211def781d"
      },
      "execution_count": 3,
      "outputs": [
        {
          "output_type": "stream",
          "name": "stdout",
          "text": [
            "Asim \n",
            "Saleem\n",
            "Asim Saleem\n"
          ]
        }
      ]
    },
    {
      "cell_type": "markdown",
      "source": [
        "**Type Casting:**"
      ],
      "metadata": {
        "id": "KnkgFGayK9Cm"
      }
    },
    {
      "cell_type": "code",
      "source": [
        "a= str (\"asim\")\n",
        "b= int (4)\n",
        "c= float(4)\n",
        "print(a)\n",
        "print(b)\n",
        "print(c)"
      ],
      "metadata": {
        "colab": {
          "base_uri": "https://localhost:8080/"
        },
        "id": "X_GR3kyFVrfW",
        "outputId": "3118ea54-6f46-479e-9342-fbd9023944e5"
      },
      "execution_count": 4,
      "outputs": [
        {
          "output_type": "stream",
          "name": "stdout",
          "text": [
            "asim\n",
            "4\n",
            "4.0\n"
          ]
        }
      ]
    },
    {
      "cell_type": "markdown",
      "source": [
        "**Type Of Variable:**"
      ],
      "metadata": {
        "id": "Y3keUvmhLFJD"
      }
    },
    {
      "cell_type": "code",
      "source": [
        "x=11.5\n",
        "y=\"AI\"\n",
        "z= 1\n",
        "print(type(x))\n",
        "print(type(y))\n",
        "print(type(z))\n"
      ],
      "metadata": {
        "colab": {
          "base_uri": "https://localhost:8080/"
        },
        "id": "wCIEw9WKX4iH",
        "outputId": "10b7cabc-1879-4a3a-d29e-d0064124772b"
      },
      "execution_count": 5,
      "outputs": [
        {
          "output_type": "stream",
          "name": "stdout",
          "text": [
            "<class 'float'>\n",
            "<class 'str'>\n",
            "<class 'int'>\n"
          ]
        }
      ]
    },
    {
      "cell_type": "markdown",
      "source": [
        "**Case Sensitive:**"
      ],
      "metadata": {
        "id": "tGXP2wr7LM09"
      }
    },
    {
      "cell_type": "code",
      "source": [
        "a=10\n",
        "A=\"ASIM\"\n",
        "print(a)\n",
        "print(A)"
      ],
      "metadata": {
        "colab": {
          "base_uri": "https://localhost:8080/"
        },
        "id": "zDqbT9fIYUP9",
        "outputId": "dee8f7a7-96d9-4a49-8146-6d03cfdc84e7"
      },
      "execution_count": 6,
      "outputs": [
        {
          "output_type": "stream",
          "name": "stdout",
          "text": [
            "10\n",
            "ASIM\n"
          ]
        }
      ]
    },
    {
      "cell_type": "markdown",
      "source": [
        "**Variable Names:**"
      ],
      "metadata": {
        "id": "eqtdHQZBLRVg"
      }
    },
    {
      "cell_type": "code",
      "source": [
        "_var =1\n",
        "Var =2\n",
        "VAR=3\n",
        "_var_ =4\n",
        "\n",
        "print(_var)\n",
        "print(Var)\n",
        "print(VAR)\n",
        "print(_var_)"
      ],
      "metadata": {
        "id": "QwIgcvR5ZLg1",
        "colab": {
          "base_uri": "https://localhost:8080/"
        },
        "outputId": "13966b4b-fd58-4e86-c464-082557a618da"
      },
      "execution_count": 7,
      "outputs": [
        {
          "output_type": "stream",
          "name": "stdout",
          "text": [
            "1\n",
            "2\n",
            "3\n",
            "4\n"
          ]
        }
      ]
    },
    {
      "cell_type": "markdown",
      "source": [
        "**Multi Values To Multi Variables:**"
      ],
      "metadata": {
        "id": "EZ974rjELZcV"
      }
    },
    {
      "cell_type": "code",
      "source": [
        "a,b,c = 1,2,\"c\"\n",
        "print(a)\n",
        "print(b)\n",
        "print(c)\n"
      ],
      "metadata": {
        "colab": {
          "base_uri": "https://localhost:8080/"
        },
        "id": "O-4g3-RGIJ_K",
        "outputId": "bdf0a33b-3f92-4797-d82c-b4aac2faf650"
      },
      "execution_count": 8,
      "outputs": [
        {
          "output_type": "stream",
          "name": "stdout",
          "text": [
            "1\n",
            "2\n",
            "c\n"
          ]
        }
      ]
    },
    {
      "cell_type": "markdown",
      "source": [
        "**Multi Variables Single Value:**"
      ],
      "metadata": {
        "id": "d3tnHjZrLkVZ"
      }
    },
    {
      "cell_type": "code",
      "source": [
        "a=b=c = \"Apple\""
      ],
      "metadata": {
        "id": "LqDibKUaImbP"
      },
      "execution_count": null,
      "outputs": []
    },
    {
      "cell_type": "markdown",
      "source": [
        "**Global Variable:**"
      ],
      "metadata": {
        "id": "gnz4lr4qLrRs"
      }
    },
    {
      "cell_type": "code",
      "source": [
        "x =\"Global Variable\"\n",
        "\n",
        "def func():\n",
        "\n",
        " print(\"X is a \"+ x)\n",
        "\n",
        "func()"
      ],
      "metadata": {
        "colab": {
          "base_uri": "https://localhost:8080/"
        },
        "id": "vnO4sY74Iwt4",
        "outputId": "ab21a318-eff4-446d-fee7-f88b3cc66720"
      },
      "execution_count": 11,
      "outputs": [
        {
          "output_type": "stream",
          "name": "stdout",
          "text": [
            "X is a Global Variable\n"
          ]
        }
      ]
    },
    {
      "cell_type": "markdown",
      "source": [
        "***Dictionary:***\n",
        "Dictionaries are use to store data using pair of a unique key and value."
      ],
      "metadata": {
        "id": "6DSzVm48Nd0Z"
      }
    },
    {
      "cell_type": "code",
      "source": [
        "dict = {\n",
        "  \"city\": \"Abbottabad\",\n",
        "  \"Year\": \"2025\",\n",
        "  1: \"Asim\"\n",
        "}\n",
        "print(dict[1])\n",
        "print(dict[\"city\"])\n"
      ],
      "metadata": {
        "colab": {
          "base_uri": "https://localhost:8080/"
        },
        "id": "b1HBxp_7OhrJ",
        "outputId": "f390b1cc-3c7d-45c8-ada2-db5a83454540"
      },
      "execution_count": 15,
      "outputs": [
        {
          "output_type": "stream",
          "name": "stdout",
          "text": [
            "Asim\n",
            "Abbottabad\n"
          ]
        }
      ]
    },
    {
      "cell_type": "markdown",
      "source": [
        "**Duplicate Values:**\n",
        "Duplicate Values are not allowed in dictionaries."
      ],
      "metadata": {
        "id": "zR4eBXCOPy1a"
      }
    },
    {
      "cell_type": "code",
      "source": [
        "dict = {1:\"A\",\n",
        "        2:\"B\",\n",
        "        2: \"C\"\n",
        "}\n",
        "\n",
        "print(dict)"
      ],
      "metadata": {
        "id": "yAiobt1mQ22j",
        "outputId": "c8a1fa03-5041-45d2-9b25-e1cad61da35f",
        "colab": {
          "base_uri": "https://localhost:8080/"
        }
      },
      "execution_count": 22,
      "outputs": [
        {
          "output_type": "stream",
          "name": "stdout",
          "text": [
            "{1: 'A', 2: 'C'}\n"
          ]
        }
      ]
    },
    {
      "cell_type": "code",
      "source": [],
      "metadata": {
        "id": "2nycCJopQ4OL"
      },
      "execution_count": null,
      "outputs": []
    }
  ]
}