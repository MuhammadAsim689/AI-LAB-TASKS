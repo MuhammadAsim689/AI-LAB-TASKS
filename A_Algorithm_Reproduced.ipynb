{
  "nbformat": 4,
  "nbformat_minor": 0,
  "metadata": {
    "colab": {
      "provenance": []
    },
    "kernelspec": {
      "name": "python3",
      "display_name": "Python 3"
    },
    "language_info": {
      "name": "python"
    }
  },
  "cells": [
    {
      "cell_type": "code",
      "execution_count": 2,
      "metadata": {
        "colab": {
          "base_uri": "https://localhost:8080/"
        },
        "id": "-EmmFGxpKEAP",
        "outputId": "be99668b-fd53-4d7e-b2a0-e9822c319238"
      },
      "outputs": [
        {
          "output_type": "stream",
          "name": "stdout",
          "text": [
            "A* path: ['Lahore', 'Faisalabad', 'Multan', 'Karachi']\n",
            "Total cost: 2740\n"
          ]
        }
      ],
      "source": [
        "import heapq\n",
        "\n",
        "graph = {\n",
        "    \"Lahore\": {\"Islamabad\": 100, \"Faisalabad\": 760},\n",
        "    \"Islamabad\": {\"Lahore\": 210, \"Peshawar\": 870},\n",
        "    \"Faisalabad\": {\"Lahore\": 320, \"Multan\": 980},\n",
        "    \"Multan\": {\"Faisalabad\": 430, \"Karachi\": 1000},\n",
        "    \"Peshawar\": {\"Islamabad\": 540},\n",
        "    \"Karachi\": {\"Multan\": 650}\n",
        "}\n",
        "\n",
        "heuristic = {\n",
        "    \"Lahore\": 2210,\n",
        "    \"Islamabad\": 3100,\n",
        "    \"Faisalabad\": 500,\n",
        "    \"Multan\": 770,\n",
        "    \"Peshawar\": 1300,\n",
        "    \"Karachi\": 0\n",
        "}\n",
        "\n",
        "def a_steric_alogorithm(graph, start, goal, heuristic):\n",
        "    open_list = []\n",
        "    heapq.heappush(open_list, (heuristic[start], [start]))\n",
        "    g_costs = {start: 0}\n",
        "    closed_set = set()\n",
        "\n",
        "    while open_list:\n",
        "        f, path = heapq.heappop(open_list)\n",
        "        node = path[-1]\n",
        "\n",
        "        if node == goal:\n",
        "            return path, g_costs[node]\n",
        "\n",
        "        if node in closed_set:\n",
        "            continue\n",
        "\n",
        "        closed_set.add(node)\n",
        "\n",
        "        for neighbor, cost in graph[node].items():\n",
        "            tentative_g = g_costs[node] + cost\n",
        "            if neighbor not in g_costs or tentative_g < g_costs[neighbor]:\n",
        "                g_costs[neighbor] = tentative_g\n",
        "                f_cost = tentative_g + heuristic.get(neighbor, float('inf'))\n",
        "                new_path = path + [neighbor]\n",
        "                heapq.heappush(open_list, (f_cost, new_path))\n",
        "\n",
        "    return None, float('inf')\n",
        "\n",
        "if __name__ == \"__main__\":\n",
        "    start_city = \"Lahore\"\n",
        "    goal_city = \"Karachi\"\n",
        "    path, cost = a_steric_alogorithm(graph, start_city, goal_city, heuristic)\n",
        "    print(\"A* path:\", path)\n",
        "    print(\"Total cost:\", cost)\n"
      ]
    }
  ]
}