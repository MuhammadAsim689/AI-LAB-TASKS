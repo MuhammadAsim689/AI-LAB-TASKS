{
  "nbformat": 4,
  "nbformat_minor": 0,
  "metadata": {
    "colab": {
      "provenance": [],
      "toc_visible": true
    },
    "kernelspec": {
      "name": "python3",
      "display_name": "Python 3"
    },
    "language_info": {
      "name": "python"
    }
  },
  "cells": [
    {
      "cell_type": "markdown",
      "source": [
        "**Reflection Questions:**\n",
        "\n",
        " **Compare the solution paths found by BFS, DFS, and A*.**\n",
        "\n",
        "BFS → finds the shortest path (e.g., 4 steps above).\n",
        "\n",
        "DFS → may find a longer path or even loop without reaching the goal unless controlled.\n",
        "\n",
        "A* → finds the same shortest path as BFS, but usually with fewer state expansions (faster if heuristic is good).\n",
        "\n",
        "\n",
        "\n",
        " **Which algorithm gives the shortest path? Why?**\n",
        " BFS and A* give the shortest path.\n",
        "\n",
        "DFS does not guarantee shortest.\n",
        "\n",
        "BFS guarantees shortest because it expands states level by level.\n",
        "\n",
        "A* guarantees shortest because its heuristic is admissible (doesn’t overestimate).\n",
        "\n",
        "\n",
        "\n",
        "\n",
        "\n",
        "\n",
        "**Which algorithm is more efficient in terms of time and memory?**\n",
        "DFS → Most memory efficient (stores only one path at a time), but not reliable.\n",
        "\n",
        "BFS → Time-consuming and memory-heavy because it stores all frontier nodes.\n",
        "\n",
        "A* → More efficient than BFS (fewer expansions), but needs heuristic calculation and priority queue."
      ],
      "metadata": {
        "id": "NDHDva1fkqU4"
      }
    }
  ]
}