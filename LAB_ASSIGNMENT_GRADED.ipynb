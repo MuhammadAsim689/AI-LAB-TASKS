{
  "nbformat": 4,
  "nbformat_minor": 0,
  "metadata": {
    "colab": {
      "provenance": []
    },
    "kernelspec": {
      "name": "python3",
      "display_name": "Python 3"
    },
    "language_info": {
      "name": "python"
    }
  },
  "cells": [
    {
      "cell_type": "markdown",
      "source": [
        "**TASK 2**"
      ],
      "metadata": {
        "id": "cDXbHfeYGiyz"
      }
    },
    {
      "cell_type": "code",
      "source": [
        "students = {\n",
        "    1:{\"name\": \"Ali\", \"age\": 20,\"roll_number\":\"SP23-BCS-10\",\"grade\":\"A\"},\n",
        "    2:{\"name\": \"Ahmed\", \"age\": 21,\"roll_number\":\"SP23-BCS-11\",\"grade\":\"B\"},\n",
        "    3:{\"name\": \"Ahsan\", \"age\": 22,\"roll_number\":\"SP23-BCS-12\",\"grade\":\"C\"},\n",
        "    4:{\"name\": \"Asad\", \"age\": 23,\"roll_number\":\"SP23-BCS-13\",\"grade\":\"D\"},\n",
        "    5:{\"name\": \"Asim\", \"age\": 24,\"roll_number\":\"SP23-BCS-14\",\"grade\":\"E\"},\n",
        "\n",
        "}\n",
        "print(\"Students Orignal Data:\")\n",
        "for key, value in students.items():\n",
        "  print(f\"Students {key}: {value}\")\n",
        "\n",
        "\n",
        "students[3][\"grade\"]=\"B+\"\n",
        "print(\"Students Data After Updation:\")\n",
        "for key, value in students.items():\n",
        "  print(f\"Students {key}: {value}\")\n",
        "\n",
        "students[1][\"email\"]=\"ali1@gmail.com\"\n",
        "students[2][\"email\"]=\"ahmed2@gmail.com\"\n",
        "students[3][\"email\"]=\"ahsan3@gmail.com\"\n",
        "students[4][\"email\"]=\"asad4@gmail.com\"\n",
        "students[5][\"email\"]=\"asim5@gmail.com\"\n",
        "\n",
        "print(\"Students Data After Email:\")\n",
        "\n",
        "for key, value in students.items():\n",
        "  print(f\"Students {key}: {value}\")\n",
        "\n",
        "for s in students.values():\n",
        "    del s[\"roll_number\"]\n",
        "\n",
        "print(\"Students Data After Deleting Roll_Number:\")\n",
        "\n",
        "for key, value in students.items():\n",
        "  print(f\"Students {key}: {value}\")"
      ],
      "metadata": {
        "id": "4uh_jYpoGG-_"
      },
      "execution_count": null,
      "outputs": []
    },
    {
      "cell_type": "markdown",
      "source": [
        "**TASK 3:**"
      ],
      "metadata": {
        "id": "_VoTUahzGVV1"
      }
    },
    {
      "cell_type": "code",
      "execution_count": null,
      "metadata": {
        "colab": {
          "base_uri": "https://localhost:8080/",
          "height": 646
        },
        "id": "fODtC-bV6-fv",
        "outputId": "80709844-eb25-44bc-cb40-439a95cbe952"
      },
      "outputs": [
        {
          "output_type": "error",
          "ename": "AttributeError",
          "evalue": "module 'matplotlib.pyplot' has no attribute 'xlable'",
          "traceback": [
            "\u001b[0;31m---------------------------------------------------------------------------\u001b[0m",
            "\u001b[0;31mAttributeError\u001b[0m                            Traceback (most recent call last)",
            "\u001b[0;32m/tmp/ipython-input-3992164208.py\u001b[0m in \u001b[0;36m<cell line: 0>\u001b[0;34m()\u001b[0m\n\u001b[1;32m      7\u001b[0m \u001b[0;34m\u001b[0m\u001b[0m\n\u001b[1;32m      8\u001b[0m \u001b[0mplt\u001b[0m\u001b[0;34m.\u001b[0m\u001b[0mtitle\u001b[0m\u001b[0;34m(\u001b[0m\u001b[0;34m\"SIMPLE LINE PLOT\"\u001b[0m\u001b[0;34m)\u001b[0m\u001b[0;34m\u001b[0m\u001b[0;34m\u001b[0m\u001b[0m\n\u001b[0;32m----> 9\u001b[0;31m \u001b[0mplt\u001b[0m\u001b[0;34m.\u001b[0m\u001b[0mxlable\u001b[0m\u001b[0;34m(\u001b[0m\u001b[0;34m\"X-axis\"\u001b[0m\u001b[0;34m)\u001b[0m\u001b[0;34m\u001b[0m\u001b[0;34m\u001b[0m\u001b[0m\n\u001b[0m\u001b[1;32m     10\u001b[0m \u001b[0mplt\u001b[0m\u001b[0;34m.\u001b[0m\u001b[0mylable\u001b[0m\u001b[0;34m(\u001b[0m\u001b[0;34m\"Y-axix\"\u001b[0m\u001b[0;34m)\u001b[0m\u001b[0;34m\u001b[0m\u001b[0;34m\u001b[0m\u001b[0m\n\u001b[1;32m     11\u001b[0m \u001b[0mplt\u001b[0m\u001b[0;34m.\u001b[0m\u001b[0mgrid\u001b[0m\u001b[0;34m(\u001b[0m\u001b[0;32mTrue\u001b[0m\u001b[0;34m)\u001b[0m\u001b[0;34m\u001b[0m\u001b[0;34m\u001b[0m\u001b[0m\n",
            "\u001b[0;31mAttributeError\u001b[0m: module 'matplotlib.pyplot' has no attribute 'xlable'"
          ]
        },
        {
          "output_type": "display_data",
          "data": {
            "text/plain": [
              "<Figure size 640x480 with 1 Axes>"
            ],
            "image/png": "[encoded data removed]"
          },
          "metadata": {}
        }
      ],
      "source": [
        "import matplotlib.pyplot as plt\n",
        "\n",
        "X  = [1,2,3,4,5]\n",
        "Y  =[2,4,6,8,10]\n",
        "\n",
        "plt.plot(X,Y)\n",
        "\n",
        "plt.title(\"SIMPLE LINE PLOT\")\n",
        "plt.xlable(\"X-axis\")\n",
        "plt.ylable(\"Y-axix\")\n",
        "plt.grid(True)\n",
        "\n",
        "plt.show()"
      ]
    },
    {
      "cell_type": "markdown",
      "source": [
        "**TASK 4:**\n",
        "**WATER JUG PROBLEM:**"
      ],
      "metadata": {
        "id": "OWXeDZfDGpRX"
      }
    },
    {
      "cell_type": "code",
      "source": [
        "import time\n",
        "import tracemalloc\n",
        "from collections import deque\n",
        "\n",
        "jug1_capacity = 4\n",
        "jug2_capacity = 3\n",
        "target = 2\n",
        "\n",
        "def get_successors(state):\n",
        "    a, b = state\n",
        "    successors = []\n",
        "    successors.append((jug1_capacity, b))\n",
        "    successors.append((a, jug2_capacity))\n",
        "    successors.append((0, b))\n",
        "    successors.append((a, 0))\n",
        "    pour = min(a, jug2_capacity - b)\n",
        "    successors.append((a - pour, b + pour))\n",
        "    pour = min(b, jug1_capacity - a)\n",
        "    successors.append((a + pour, b - pour))\n",
        "    return successors\n",
        "\n",
        "def bfs():\n",
        "    start_time = time.time()\n",
        "    tracemalloc.start()\n",
        "    visited = set()\n",
        "    queue = deque([((0, 0), [])])\n",
        "    steps = 0\n",
        "    while queue:\n",
        "        (a, b), path = queue.popleft()\n",
        "        steps += 1\n",
        "        if (a, b) in visited:\n",
        "            continue\n",
        "        visited.add((a, b))\n",
        "        path = path + [(a, b)]\n",
        "        if a == target or b == target:\n",
        "            current, peak = tracemalloc.get_traced_memory()\n",
        "            tracemalloc.stop()\n",
        "            end_time = time.time()\n",
        "            return {\n",
        "                \"path\": path,\n",
        "                \"steps\": steps,\n",
        "                \"time\": end_time - start_time,\n",
        "                \"memory\": peak / 1024\n",
        "            }\n",
        "        for next_state in get_successors((a, b)):\n",
        "            if next_state not in visited:\n",
        "                queue.append((next_state, path))\n",
        "    tracemalloc.stop()\n",
        "    return None\n",
        "\n",
        "def dfs():\n",
        "    start_time = time.time()\n",
        "    tracemalloc.start()\n",
        "    visited = set()\n",
        "    stack = [((0, 0), [])]\n",
        "    steps = 0\n",
        "    while stack:\n",
        "        (a, b), path = stack.pop()\n",
        "        steps += 1\n",
        "        if (a, b) in visited:\n",
        "            continue\n",
        "        visited.add((a, b))\n",
        "        path = path + [(a, b)]\n",
        "        if a == target or b == target:\n",
        "            current, peak = tracemalloc.get_traced_memory()\n",
        "            tracemalloc.stop()\n",
        "            end_time = time.time()\n",
        "            return {\n",
        "                \"path\": path,\n",
        "                \"steps\": steps,\n",
        "                \"time\": end_time - start_time,\n",
        "                \"memory\": peak / 1024\n",
        "            }\n",
        "        for next_state in get_successors((a, b)):\n",
        "            if next_state not in visited:\n",
        "                stack.append((next_state, path))\n",
        "    tracemalloc.stop()\n",
        "    return None\n",
        "\n",
        "bfs_result = bfs()\n",
        "dfs_result = dfs()\n",
        "\n",
        "print(\"===== WATER JUG PROBLEM COMPARISON =====\")\n",
        "print(\"\\n--- BFS ---\")\n",
        "print(f\"Path: {bfs_result['path']}\")\n",
        "print(f\"Steps Taken: {bfs_result['steps']}\")\n",
        "print(f\"Time Taken: {bfs_result['time']:.6f} seconds\")\n",
        "print(f\"Memory Used: {bfs_result['memory']:.2f} KB\")\n",
        "\n",
        "print(\"\\n--- DFS ---\")\n",
        "print(f\"Path: {dfs_result['path']}\")\n",
        "print(f\"Steps Taken: {dfs_result['steps']}\")\n",
        "print(f\"Time Taken: {dfs_result['time']:.6f} seconds\")\n",
        "print(f\"Memory Used: {dfs_result['memory']:.2f} KB\")\n",
        "\n",
        "print(\"\\n--- COMPARISON SUMMARY ---\")\n",
        "if bfs_result['time'] < dfs_result['time']:\n",
        "    print(\"BFS is faster.\")\n",
        "else:\n",
        "    print(\"DFS is faster.\")\n",
        "\n",
        "if bfs_result['memory'] < dfs_result['memory']:\n",
        "    print(\"BFS uses less memory.\")\n",
        "else:\n",
        "    print(\"DFS uses less memory.\")\n"
      ],
      "metadata": {
        "colab": {
          "base_uri": "https://localhost:8080/"
        },
        "id": "J3Dk4n6NJC92",
        "outputId": "38cdc097-7cab-463c-a7de-540b01f2c185"
      },
      "execution_count": 4,
      "outputs": [
        {
          "output_type": "stream",
          "name": "stdout",
          "text": [
            "===== WATER JUG PROBLEM COMPARISON =====\n",
            "\n",
            "--- BFS ---\n",
            "Path: [(0, 0), (0, 3), (3, 0), (3, 3), (4, 2)]\n",
            "Steps Taken: 11\n",
            "Time Taken: 0.000174 seconds\n",
            "Memory Used: 1.63 KB\n",
            "\n",
            "--- DFS ---\n",
            "Path: [(0, 0), (0, 3), (3, 0), (3, 3), (4, 2)]\n",
            "Steps Taken: 5\n",
            "Time Taken: 0.000078 seconds\n",
            "Memory Used: 0.90 KB\n",
            "\n",
            "--- COMPARISON SUMMARY ---\n",
            "DFS is faster.\n",
            "DFS uses less memory.\n"
          ]
        }
      ]
    },
    {
      "cell_type": "markdown",
      "source": [
        "**TASK 5 **\n",
        "MAZE:"
      ],
      "metadata": {
        "id": "tMHniyY6PqgU"
      }
    },
    {
      "cell_type": "code",
      "source": [
        "import heapq\n",
        "\n",
        "maze = [\n",
        "    [1, 1, 0, 1, 0, 0],\n",
        "    [0, 0, 0, 0, 0, 0],\n",
        "    [0, 0, 1, 0, 0, 0],\n",
        "    [0, 0, 1, 0, 0, 0],\n",
        "    [0, 1, 1, 1, 1, 0],\n",
        "    [0, 0, 0, 0, 0, 0]\n",
        "]\n",
        "\n",
        "start = (5, 0)\n",
        "goal = (0, 5)\n",
        "directions = [(-1, 0), (1, 0), (0, -1), (0, 1)]\n",
        "\n",
        "def heuristic(a, b):\n",
        "    return abs(a[0] - b[0]) + abs(a[1] - b[1])\n",
        "\n",
        "def a_star_search(maze, start, goal):\n",
        "    rows, cols = len(maze), len(maze[0])\n",
        "    open_set = []\n",
        "    heapq.heappush(open_set, (0, start))\n",
        "    came_from = {}\n",
        "    g_score = {start: 0}\n",
        "\n",
        "    while open_set:\n",
        "        _, current = heapq.heappop(open_set)\n",
        "\n",
        "        if current == goal:\n",
        "            path = []\n",
        "            while current in came_from:\n",
        "                path.append(current)\n",
        "                current = came_from[current]\n",
        "            path.append(start)\n",
        "            path.reverse()\n",
        "            return path\n",
        "\n",
        "        for dx, dy in directions:\n",
        "            neighbor = (current[0] + dx, current[1] + dy)\n",
        "            if 0 <= neighbor[0] < rows and 0 <= neighbor[1] < cols:\n",
        "                if maze[neighbor[0]][neighbor[1]] == 1:\n",
        "                    continue\n",
        "                tentative_g = g_score[current] + 1\n",
        "                if tentative_g < g_score.get(neighbor, float('inf')):\n",
        "                    came_from[neighbor] = current\n",
        "                    g_score[neighbor] = tentative_g\n",
        "                    f_score = tentative_g + heuristic(neighbor, goal)\n",
        "                    heapq.heappush(open_set, (f_score, neighbor))\n",
        "    return None\n",
        "\n",
        "path = a_star_search(maze, start, goal)\n",
        "\n",
        "if path:\n",
        "    print(\"✅ Path found from A to Y:\")\n",
        "    for step in path:\n",
        "        print(step)\n",
        "else:\n",
        "    print(\"❌ No path found.\")\n"
      ],
      "metadata": {
        "colab": {
          "base_uri": "https://localhost:8080/"
        },
        "id": "HlHCNMtzLe9n",
        "outputId": "f12cdce3-f828-42ec-9e7c-0d15dec2e3e6"
      },
      "execution_count": 5,
      "outputs": [
        {
          "output_type": "stream",
          "name": "stdout",
          "text": [
            "✅ Path found from A to Y:\n",
            "(5, 0)\n",
            "(4, 0)\n",
            "(3, 0)\n",
            "(2, 0)\n",
            "(1, 0)\n",
            "(1, 1)\n",
            "(1, 2)\n",
            "(1, 3)\n",
            "(1, 4)\n",
            "(0, 4)\n",
            "(0, 5)\n"
          ]
        }
      ]
    }
  ]
}